new_URI = df_library["uri"].str.split(":", expand = "True")
df_library["new_track_URI"] = new_URI[2]